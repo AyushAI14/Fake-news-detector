{
 "cells": [
  {
   "cell_type": "code",
   "execution_count": 1,
   "id": "dc1b771c",
   "metadata": {},
   "outputs": [
    {
     "name": "stdout",
     "output_type": "stream",
     "text": [
      "/home/ayush/Documents/AI/Projects/Fake-news-detector\n"
     ]
    }
   ],
   "source": [
    "cd .."
   ]
  },
  {
   "cell_type": "code",
   "execution_count": 2,
   "id": "0159dc12",
   "metadata": {},
   "outputs": [],
   "source": [
    "from dataclasses import dataclass\n",
    "from pathlib import Path\n",
    "\n",
    "@dataclass\n",
    "class ModelTrainerConfig:\n",
    "    root_dir: Path\n",
    "    model_path :  Path\n",
    "    tranformed_data: Path\n",
    "    tokenizer_path : Path\n",
    "    model_ckpt: str"
   ]
  },
  {
   "cell_type": "code",
   "execution_count": 3,
   "id": "de3c9ea5",
   "metadata": {},
   "outputs": [],
   "source": [
    "from src.constants import *\n",
    "from src.utils.common import read_yaml_file,create_dir"
   ]
  },
  {
   "cell_type": "code",
   "execution_count": 4,
   "id": "85d3f0da",
   "metadata": {},
   "outputs": [],
   "source": [
    "class ConfigurationManager:\n",
    "    def __init__(self,config=CONFIG_FILE_PATH,\n",
    "                 param=PARAM_FILE_PATH):\n",
    "        self.config=read_yaml_file(config)\n",
    "        self.param=read_yaml_file(param)\n",
    "        create_dir([self.config.root_Artifact])\n",
    "\n",
    "    def getmodeltrainer(self)->ModelTrainerConfig:\n",
    "        config=self.config.model_trainer\n",
    "        create_dir([config.root_dir])\n",
    "        model_trainer_config = ModelTrainerConfig(\n",
    "            root_dir=Path(config.root_dir),\n",
    "            model_path=Path(config.model_path),\n",
    "            tranformed_data = Path(config.tranformed_data),\n",
    "            tokenizer_path=Path(config.tokenizer_path),\n",
    "            model_ckpt=config.model_ckpt\n",
    "        )\n",
    "        return model_trainer_config"
   ]
  },
  {
   "cell_type": "code",
   "execution_count": 5,
   "id": "e1a04368",
   "metadata": {},
   "outputs": [
    {
     "name": "stderr",
     "output_type": "stream",
     "text": [
      "/home/ayush/Documents/AI/Projects/Fake-news-detector/env/lib/python3.12/site-packages/tqdm/auto.py:21: TqdmWarning: IProgress not found. Please update jupyter and ipywidgets. See https://ipywidgets.readthedocs.io/en/stable/user_install.html\n",
      "  from .autonotebook import tqdm as notebook_tqdm\n"
     ]
    }
   ],
   "source": [
    "# Load model directly\n",
    "from transformers import AutoTokenizer, AutoModelForSequenceClassification\n",
    "# tokenizer = AutoTokenizer.from_pretrained(\"therealcyberlord/fake-news-classification-distilbert\")\n",
    "# model = AutoModelForSequenceClassification.from_pretrained(\"therealcyberlord/fake-news-classification-distilbert\")"
   ]
  },
  {
   "cell_type": "code",
   "execution_count": 6,
   "id": "0fd1cbcc",
   "metadata": {},
   "outputs": [
    {
     "name": "stdout",
     "output_type": "stream",
     "text": [
      "[2025-06-12 07:45:02,217 : INFO : config : PyTorch version 2.7.1+cpu available.]\n",
      "[2025-06-12 07:45:02,220 : INFO : config : TensorFlow version 2.19.0 available.]\n"
     ]
    },
    {
     "name": "stderr",
     "output_type": "stream",
     "text": [
      "2025-06-12 07:45:05.880326: I tensorflow/core/util/port.cc:153] oneDNN custom operations are on. You may see slightly different numerical results due to floating-point round-off errors from different computation orders. To turn them off, set the environment variable `TF_ENABLE_ONEDNN_OPTS=0`.\n",
      "2025-06-12 07:45:05.901280: I external/local_xla/xla/tsl/cuda/cudart_stub.cc:32] Could not find cuda drivers on your machine, GPU will not be used.\n",
      "2025-06-12 07:45:06.064475: I external/local_xla/xla/tsl/cuda/cudart_stub.cc:32] Could not find cuda drivers on your machine, GPU will not be used.\n",
      "2025-06-12 07:45:06.201912: E external/local_xla/xla/stream_executor/cuda/cuda_fft.cc:467] Unable to register cuFFT factory: Attempting to register factory for plugin cuFFT when one has already been registered\n",
      "WARNING: All log messages before absl::InitializeLog() is called are written to STDERR\n",
      "E0000 00:00:1749694506.341324   21960 cuda_dnn.cc:8579] Unable to register cuDNN factory: Attempting to register factory for plugin cuDNN when one has already been registered\n",
      "E0000 00:00:1749694506.384389   21960 cuda_blas.cc:1407] Unable to register cuBLAS factory: Attempting to register factory for plugin cuBLAS when one has already been registered\n",
      "W0000 00:00:1749694506.648466   21960 computation_placer.cc:177] computation placer already registered. Please check linkage and avoid linking the same target more than once.\n",
      "W0000 00:00:1749694506.648518   21960 computation_placer.cc:177] computation placer already registered. Please check linkage and avoid linking the same target more than once.\n",
      "W0000 00:00:1749694506.648522   21960 computation_placer.cc:177] computation placer already registered. Please check linkage and avoid linking the same target more than once.\n",
      "W0000 00:00:1749694506.648524   21960 computation_placer.cc:177] computation placer already registered. Please check linkage and avoid linking the same target more than once.\n",
      "2025-06-12 07:45:06.683770: I tensorflow/core/platform/cpu_feature_guard.cc:210] This TensorFlow binary is optimized to use available CPU instructions in performance-critical operations.\n",
      "To enable the following instructions: AVX2 AVX512F AVX512_VNNI FMA, in other operations, rebuild TensorFlow with the appropriate compiler flags.\n"
     ]
    }
   ],
   "source": [
    "from sklearn.model_selection import train_test_split\n",
    "import pandas as pd\n",
    "from datasets import Dataset\n",
    "from transformers import Trainer, TrainingArguments"
   ]
  },
  {
   "cell_type": "code",
   "execution_count": 11,
   "id": "81670cab",
   "metadata": {},
   "outputs": [],
   "source": [
    "from sklearn.model_selection import train_test_split\n",
    "from datasets import Dataset\n",
    "from transformers import Trainer, TrainingArguments\n",
    "import pandas as pd\n",
    "\n",
    "\n",
    "class ModelTrainer:\n",
    "    def __init__(self, config):\n",
    "        self.config = config\n",
    "\n",
    "        # Initialize tokenizer and model\n",
    "        self.tokenizer = AutoTokenizer.from_pretrained(self.config.model_ckpt)\n",
    "        self.model = AutoModelForSequenceClassification.from_pretrained(self.config.model_ckpt, num_labels=2)\n",
    "\n",
    "        self.df = pd.read_csv(self.config.tranformed_data) \n",
    "        print(self.df.columns)\n",
    "        self.df = self.df.dropna(subset=[\"text\"])\n",
    "        self.df[\"text\"] = self.df[\"text\"].astype(str)\n",
    "        train_df, test_df = train_test_split(\n",
    "            self.df, test_size=0.2, stratify=self.df['label'], random_state=42\n",
    "        )\n",
    "\n",
    "        self.train_dataset = Dataset.from_pandas(train_df)\n",
    "        self.test_dataset = Dataset.from_pandas(test_df)\n",
    "\n",
    "        self.train_dataset = self.train_dataset.map(self.tokenize, batched=True)\n",
    "        self.test_dataset = self.test_dataset.map(self.tokenize, batched=True)\n",
    "\n",
    "    def tokenize(self, batch):\n",
    "        return self.tokenizer(batch[\"text\"], truncation=True, padding=\"max_length\", max_length=512)\n",
    "\n",
    "    def trainer(self):\n",
    "        args = TrainingArguments(\n",
    "            output_dir=\"./fine_tuned_roberta\",\n",
    "            per_device_train_batch_size=8,\n",
    "            per_device_eval_batch_size=8,\n",
    "            report_to=\"none\",\n",
    "            num_train_epochs=2,\n",
    "            logging_steps=50,\n",
    "        )\n",
    "\n",
    "        trainer = Trainer(\n",
    "            model=self.model,\n",
    "            args=args,\n",
    "            train_dataset=self.train_dataset,\n",
    "            eval_dataset=self.test_dataset,\n",
    "        )\n",
    "        trainer.train()\n",
    "\n",
    "        self.model.save_pretrained(self.config.model_path)\n",
    "        self.tokenizer.save_pretrained(self.config.tokenizer_path)\n"
   ]
  },
  {
   "cell_type": "code",
   "execution_count": 12,
   "id": "a7632e9f",
   "metadata": {},
   "outputs": [
    {
     "name": "stdout",
     "output_type": "stream",
     "text": [
      "[2025-06-12 07:48:50,083 : INFO : common : Created directory at: artifact]\n",
      "[2025-06-12 07:48:50,084 : INFO : common : Created directory at: artifact/model_trainer]\n",
      "Index(['title', 'text', 'subject', 'date', 'label'], dtype='object')\n"
     ]
    },
    {
     "ename": "",
     "evalue": "",
     "output_type": "error",
     "traceback": [
      "\u001b[1;31mThe Kernel crashed while executing code in the current cell or a previous cell. \n",
      "\u001b[1;31mPlease review the code in the cell(s) to identify a possible cause of the failure. \n",
      "\u001b[1;31mClick <a href='https://aka.ms/vscodeJupyterKernelCrash'>here</a> for more info. \n",
      "\u001b[1;31mView Jupyter <a href='command:jupyter.viewOutput'>log</a> for further details."
     ]
    }
   ],
   "source": [
    "config=ConfigurationManager()\n",
    "getmodelTrainer = config.getmodeltrainer()\n",
    "modeltrainer = ModelTrainer(config=getmodelTrainer)\n",
    "# modeltrainer.tokenize()\n",
    "# modeltrainer.trainer()\n"
   ]
  },
  {
   "cell_type": "code",
   "execution_count": null,
   "id": "60c9a064",
   "metadata": {},
   "outputs": [],
   "source": []
  },
  {
   "cell_type": "code",
   "execution_count": null,
   "id": "565ac4af",
   "metadata": {},
   "outputs": [],
   "source": []
  }
 ],
 "metadata": {
  "kernelspec": {
   "display_name": "env",
   "language": "python",
   "name": "python3"
  },
  "language_info": {
   "codemirror_mode": {
    "name": "ipython",
    "version": 3
   },
   "file_extension": ".py",
   "mimetype": "text/x-python",
   "name": "python",
   "nbconvert_exporter": "python",
   "pygments_lexer": "ipython3",
   "version": "3.12.3"
  }
 },
 "nbformat": 4,
 "nbformat_minor": 5
}
