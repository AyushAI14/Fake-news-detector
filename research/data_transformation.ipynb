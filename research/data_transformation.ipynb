{
 "cells": [
  {
   "cell_type": "code",
   "execution_count": 1,
   "id": "4ee0529d",
   "metadata": {},
   "outputs": [
    {
     "data": {
      "text/plain": [
       "1"
      ]
     },
     "execution_count": 1,
     "metadata": {},
     "output_type": "execute_result"
    }
   ],
   "source": [
    "1"
   ]
  },
  {
   "cell_type": "code",
   "execution_count": 2,
   "id": "68b7becd",
   "metadata": {},
   "outputs": [
    {
     "name": "stdout",
     "output_type": "stream",
     "text": [
      "/home/ayush/Documents/AI/Projects/Fake-news-detector\n"
     ]
    }
   ],
   "source": [
    "cd .."
   ]
  },
  {
   "cell_type": "code",
   "execution_count": 3,
   "id": "cd961f72",
   "metadata": {},
   "outputs": [],
   "source": [
    "from dataclasses import dataclass\n",
    "from pathlib import Path\n",
    "\n",
    "@dataclass\n",
    "class DataTransformationConfig:\n",
    "    root_dir: Path\n",
    "    df_output_path :  Path\n",
    "    tranformed_data: Path"
   ]
  },
  {
   "cell_type": "code",
   "execution_count": 4,
   "id": "e1482272",
   "metadata": {},
   "outputs": [],
   "source": [
    "from src.constants import * \n",
    "from src.utils.common import read_yaml_file,create_dir "
   ]
  },
  {
   "cell_type": "code",
   "execution_count": 5,
   "id": "42358b59",
   "metadata": {},
   "outputs": [],
   "source": [
    "class ConfigurationManager:\n",
    "    def __init__(self,config=CONFIG_FILE_PATH,\n",
    "                 param=PARAM_FILE_PATH):\n",
    "        self.config=read_yaml_file(config)\n",
    "        self.param=read_yaml_file(param)\n",
    "        create_dir([self.config.root_Artifact])\n",
    "\n",
    "    def getDataTransformation(self)->DataTransformationConfig:\n",
    "        config=self.config.data_transformation\n",
    "        create_dir([config.root_dir])\n",
    "        data_transformation_config = DataTransformationConfig(\n",
    "            root_dir=Path(config.root_dir),\n",
    "            df_output_path=Path(config.df_output_path),\n",
    "            tranformed_data = Path(config.tranformed_data)\n",
    "        )\n",
    "        return data_transformation_config"
   ]
  },
  {
   "cell_type": "code",
   "execution_count": 6,
   "id": "d25f1e1a",
   "metadata": {},
   "outputs": [],
   "source": [
    "from text_prettifier import TextPrettifier\n",
    "import pandas as pd"
   ]
  },
  {
   "cell_type": "code",
   "execution_count": 7,
   "id": "64f25530",
   "metadata": {},
   "outputs": [],
   "source": [
    "class DataTransformation:\n",
    "    def __init__(self,config=DataTransformationConfig):\n",
    "        self.config=config\n",
    "        \n",
    "    def text_cleaner(self,text):\n",
    "        prettifier = TextPrettifier()\n",
    "        text = text.lower()\n",
    "        text = prettifier.remove_contractions(text)\n",
    "        text = prettifier.remove_emojis(text)\n",
    "        text = prettifier.remove_html_tags(text)\n",
    "        text = prettifier.remove_urls(text)\n",
    "        # keep stopwords and punctuation for BERT or LSTM\n",
    "        return text\n",
    "    def tranform_text(self):\n",
    "        df=pd.read_csv(self.config.df_output_path)\n",
    "        df['text']=df['text'].apply(self.text_cleaner)\n",
    "        df.to_csv(self.config.tranformed_data,index=False)\n",
    "\n"
   ]
  },
  {
   "cell_type": "code",
   "execution_count": 8,
   "id": "23bbef0d",
   "metadata": {},
   "outputs": [
    {
     "name": "stdout",
     "output_type": "stream",
     "text": [
      "[2025-06-11 22:52:46,728 : INFO : common : Created directory at: artifact]\n",
      "[2025-06-11 22:52:46,729 : INFO : common : Created directory at: artifact/data_transformation]\n"
     ]
    }
   ],
   "source": [
    "config=ConfigurationManager()\n",
    "getDataTransConfig = config.getDataTransformation()\n",
    "dataTranfrom = DataTransformation(config=getDataTransConfig)\n",
    "dataTranfrom.tranform_text()"
   ]
  },
  {
   "cell_type": "code",
   "execution_count": null,
   "id": "b42b3b64",
   "metadata": {},
   "outputs": [
    {
     "data": {
      "text/plain": [
       "'donald trump s white house is in chaos, and they are trying to cover it up. their russia problems are mounting by the hour, and they refuse to acknowledge that there are problems surrounding all of this. to them, it s fake news, or a hoax. however, the facts bear things out differently, and it seems that there are now cracks in the congressional public leadership.chuck grassley (r-iowa), who heads the senate judiciary committee, is fed up. he is now demanding that donald trump, jr. and former 2016 trump campaign manager paul manafort testify before his committee regarding the now infamous shady meeting between donald trump and the shady russian lawyer who promised dirt on 2016 democratic presidential nominee hillary clinton. in fact, this information is due, well, now. this demand sends a few signals to team trump most notably that they should not fire special counsel robert mueller under any circumstances, despite the fact that it seems that this seems to be what trump s white house is laying the groundwork, so to speak, to do as we speak.here is the tweet regarding grassley s warning:also, anyone who thinks that senator grassley and the rest of the senate are not serious about this only needs to look at the warning that has already been given: trump jr. and manafort will either follow orders, or be served with subpoenas that force them to comply. if they refuse, they will be held in contempt of congress, which carries with it serious jail time.even the cruel, craven creatures within the gop are sick of donald trump s corruption and his scandal-ridden white house. they are angry that he staged a hostile takeover of their party, first with birtherism and giving them a permanently racist label all while decimating all efforts that were made to pretend the republican party isn t a hotbed of racism, and while turning their worlds upside down, and with it, the nation. it seems that old-timers like grassley, who are clearly sick of trump s bullshit, just might be the ones who could save the republic. all they need is a bit of courage.featured image via win mcnamee/getty images'"
      ]
     },
     "execution_count": 10,
     "metadata": {},
     "output_type": "execute_result"
    }
   ],
   "source": [
    "d = pd.read_csv('artifact/data_transformation/tf_Data.csv')\n",
    "d['text'][0]"
   ]
  },
  {
   "cell_type": "code",
   "execution_count": null,
   "id": "f2fe39fd",
   "metadata": {},
   "outputs": [],
   "source": []
  }
 ],
 "metadata": {
  "kernelspec": {
   "display_name": "env",
   "language": "python",
   "name": "python3"
  },
  "language_info": {
   "codemirror_mode": {
    "name": "ipython",
    "version": 3
   },
   "file_extension": ".py",
   "mimetype": "text/x-python",
   "name": "python",
   "nbconvert_exporter": "python",
   "pygments_lexer": "ipython3",
   "version": "3.12.3"
  }
 },
 "nbformat": 4,
 "nbformat_minor": 5
}
