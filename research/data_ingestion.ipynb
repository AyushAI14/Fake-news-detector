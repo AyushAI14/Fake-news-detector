{
 "cells": [
  {
   "cell_type": "code",
   "execution_count": 1,
   "id": "97fbd32e",
   "metadata": {},
   "outputs": [
    {
     "data": {
      "text/plain": [
       "2"
      ]
     },
     "execution_count": 1,
     "metadata": {},
     "output_type": "execute_result"
    }
   ],
   "source": [
    "1+1"
   ]
  },
  {
   "cell_type": "code",
   "execution_count": 2,
   "id": "5bdbe0ce",
   "metadata": {},
   "outputs": [
    {
     "data": {
      "text/plain": [
       "'/home/ayush/Documents/AI/Projects/Fake-news-detector/research'"
      ]
     },
     "execution_count": 2,
     "metadata": {},
     "output_type": "execute_result"
    }
   ],
   "source": [
    "pwd"
   ]
  },
  {
   "cell_type": "code",
   "execution_count": 3,
   "id": "d3399c3c",
   "metadata": {},
   "outputs": [
    {
     "name": "stdout",
     "output_type": "stream",
     "text": [
      "/home/ayush/Documents/AI/Projects/Fake-news-detector\n"
     ]
    }
   ],
   "source": [
    "cd .."
   ]
  },
  {
   "cell_type": "code",
   "execution_count": 4,
   "id": "5970deb4",
   "metadata": {},
   "outputs": [],
   "source": [
    "from dataclasses import dataclass\n",
    "from pathlib import Path\n",
    "\n",
    "@dataclass\n",
    "class DataIngestionConfig:\n",
    "    root_dir: Path\n",
    "    source_path: str\n",
    "    local_file_dir: Path\n",
    "    fake_data: Path\n",
    "    true_data:Path\n",
    "    df_output_path:Path\n"
   ]
  },
  {
   "cell_type": "code",
   "execution_count": 5,
   "id": "79a63aeb",
   "metadata": {},
   "outputs": [],
   "source": [
    "from src.constants import *\n",
    "from src.utils.common import read_yaml_file,create_dir"
   ]
  },
  {
   "cell_type": "code",
   "execution_count": 6,
   "id": "c1d26ece",
   "metadata": {},
   "outputs": [],
   "source": [
    "class ConfigurationManager:\n",
    "    def __init__(self,config=CONFIG_FILE_PATH,\n",
    "                 param=PARAM_FILE_PATH):\n",
    "        self.config=read_yaml_file(config)\n",
    "        self.param=read_yaml_file(param)\n",
    "        create_dir([self.config.root_Artifact])\n",
    "\n",
    "    def getDataIngestion(self)->DataIngestionConfig:\n",
    "        config=self.config.data_ingestion\n",
    "        create_dir([config.root_dir])\n",
    "        data_ingestion_config = DataIngestionConfig(\n",
    "            root_dir=Path(config.root_dir),\n",
    "            source_path=config.source_path,\n",
    "            local_file_dir=Path(config.local_file_dir),\n",
    "            true_data=Path(config.true_data),\n",
    "            fake_data=Path(config.fake_data),\n",
    "            df_output_path = Path(config.df_output_path)\n",
    "        )\n",
    "        return data_ingestion_config"
   ]
  },
  {
   "cell_type": "code",
   "execution_count": 7,
   "id": "fb2f9c0b",
   "metadata": {},
   "outputs": [],
   "source": [
    "import os\n",
    "import pandas as pd\n",
    "from src.logging import logger"
   ]
  },
  {
   "cell_type": "markdown",
   "id": "1fbb6cb8",
   "metadata": {},
   "source": []
  },
  {
   "cell_type": "code",
   "execution_count": 8,
   "id": "422432ad",
   "metadata": {},
   "outputs": [],
   "source": [
    "from kaggle.api.kaggle_api_extended import KaggleApi\n",
    "api = KaggleApi()\n",
    "api.authenticate()\n",
    "# api.dataset_download_files('owner/dataset-name', path='data/', unzip=True)"
   ]
  },
  {
   "cell_type": "code",
   "execution_count": 9,
   "id": "b0fb10fd",
   "metadata": {},
   "outputs": [],
   "source": [
    "class DataIngestion:\n",
    "    def __init__(self,config=DataIngestionConfig):\n",
    "        self.config=config\n",
    "\n",
    "    def get_data(self):\n",
    "        \"\"\"\n",
    "        Downloads dataset from Kaggle and saves it locally.\n",
    "        \"\"\"\n",
    "        try:\n",
    "            api.dataset_download_files(\n",
    "                dataset=self.config.source_path,\n",
    "                path=self.config.local_file_dir,\n",
    "                unzip=True\n",
    "            )\n",
    "            logger.debug('Data successfully fetched from Kaggle')\n",
    "        except Exception as e:\n",
    "            logger.error(f\"Failed to download data: {e}\")\n",
    "            raise e\n",
    "    def concat_data(self):\n",
    "        \"\"\"\n",
    "        Concatenates the fake and true CSV files into one DataFrame, shuffles it, and saves it.\n",
    "        \"\"\"\n",
    "        try:\n",
    "            # Load CSVs into DataFrames\n",
    "            true_df = pd.read_csv(self.config.true_data)\n",
    "            fake_df = pd.read_csv(self.config.fake_data)\n",
    "            true_df['label']=1\n",
    "            fake_df['label']=0\n",
    "\n",
    "            # Concatenate and shuffle\n",
    "            df = pd.concat([true_df, fake_df], ignore_index=True)\n",
    "            df = df.sample(frac=1, random_state=42).reset_index(drop=True)\n",
    "\n",
    "            # Save the final DataFrame\n",
    "            df.to_csv(self.config.df_output_path, index=False)\n",
    "            logger.debug('Data successfully concatenated and saved.')\n",
    "        except Exception as e:\n",
    "            logger.error(f\"Failed to concatenate data: {e}\")\n",
    "            raise e\n",
    "\n",
    "     "
   ]
  },
  {
   "cell_type": "code",
   "execution_count": 10,
   "id": "11928a60",
   "metadata": {},
   "outputs": [
    {
     "name": "stdout",
     "output_type": "stream",
     "text": [
      "[2025-06-11 20:19:13,768 : INFO : common : Created directory at: artifact]\n",
      "[2025-06-11 20:19:13,776 : INFO : common : Created directory at: artifact/data_ingestion]\n",
      "Dataset URL: https://www.kaggle.com/datasets/emineyetm/fake-news-detection-datasets\n"
     ]
    }
   ],
   "source": [
    "config=ConfigurationManager()\n",
    "getDataIngestionConfig = config.getDataIngestion()\n",
    "dataingestion = DataIngestion(config=getDataIngestionConfig)\n",
    "dataingestion.get_data()\n",
    "dataingestion.concat_data()"
   ]
  },
  {
   "cell_type": "code",
   "execution_count": 11,
   "id": "e4db433d",
   "metadata": {},
   "outputs": [
    {
     "data": {
      "text/html": [
       "<div>\n",
       "<style scoped>\n",
       "    .dataframe tbody tr th:only-of-type {\n",
       "        vertical-align: middle;\n",
       "    }\n",
       "\n",
       "    .dataframe tbody tr th {\n",
       "        vertical-align: top;\n",
       "    }\n",
       "\n",
       "    .dataframe thead th {\n",
       "        text-align: right;\n",
       "    }\n",
       "</style>\n",
       "<table border=\"1\" class=\"dataframe\">\n",
       "  <thead>\n",
       "    <tr style=\"text-align: right;\">\n",
       "      <th></th>\n",
       "      <th>title</th>\n",
       "      <th>text</th>\n",
       "      <th>subject</th>\n",
       "      <th>date</th>\n",
       "      <th>label</th>\n",
       "    </tr>\n",
       "  </thead>\n",
       "  <tbody>\n",
       "    <tr>\n",
       "      <th>0</th>\n",
       "      <td>BREAKING: GOP Chairman Grassley Has Had Enoug...</td>\n",
       "      <td>Donald Trump s White House is in chaos, and th...</td>\n",
       "      <td>News</td>\n",
       "      <td>July 21, 2017</td>\n",
       "      <td>0</td>\n",
       "    </tr>\n",
       "    <tr>\n",
       "      <th>1</th>\n",
       "      <td>Failed GOP Candidates Remembered In Hilarious...</td>\n",
       "      <td>Now that Donald Trump is the presumptive GOP n...</td>\n",
       "      <td>News</td>\n",
       "      <td>May 7, 2016</td>\n",
       "      <td>0</td>\n",
       "    </tr>\n",
       "    <tr>\n",
       "      <th>2</th>\n",
       "      <td>Mike Pence’s New DC Neighbors Are HILARIOUSLY...</td>\n",
       "      <td>Mike Pence is a huge homophobe. He supports ex...</td>\n",
       "      <td>News</td>\n",
       "      <td>December 3, 2016</td>\n",
       "      <td>0</td>\n",
       "    </tr>\n",
       "    <tr>\n",
       "      <th>3</th>\n",
       "      <td>California AG pledges to defend birth control ...</td>\n",
       "      <td>SAN FRANCISCO (Reuters) - California Attorney ...</td>\n",
       "      <td>politicsNews</td>\n",
       "      <td>October 6, 2017</td>\n",
       "      <td>1</td>\n",
       "    </tr>\n",
       "    <tr>\n",
       "      <th>4</th>\n",
       "      <td>AZ RANCHERS Living On US-Mexico Border Destroy...</td>\n",
       "      <td>Twisted reasoning is all that comes from Pelos...</td>\n",
       "      <td>politics</td>\n",
       "      <td>Apr 25, 2017</td>\n",
       "      <td>0</td>\n",
       "    </tr>\n",
       "    <tr>\n",
       "      <th>...</th>\n",
       "      <td>...</td>\n",
       "      <td>...</td>\n",
       "      <td>...</td>\n",
       "      <td>...</td>\n",
       "      <td>...</td>\n",
       "    </tr>\n",
       "    <tr>\n",
       "      <th>44893</th>\n",
       "      <td>Nigeria says U.S. agrees delayed $593 million ...</td>\n",
       "      <td>ABUJA (Reuters) - The United States has formal...</td>\n",
       "      <td>worldnews</td>\n",
       "      <td>December 27, 2017</td>\n",
       "      <td>1</td>\n",
       "    </tr>\n",
       "    <tr>\n",
       "      <th>44894</th>\n",
       "      <td>Boiler Room #62 – Fatal Illusions</td>\n",
       "      <td>Tune in to the Alternate Current Radio Network...</td>\n",
       "      <td>Middle-east</td>\n",
       "      <td>June 29, 2016</td>\n",
       "      <td>0</td>\n",
       "    </tr>\n",
       "    <tr>\n",
       "      <th>44895</th>\n",
       "      <td>ATHEISTS SUE GOVERNOR OF TEXAS Over Display on...</td>\n",
       "      <td>I m convinced the Freedom From Religion group...</td>\n",
       "      <td>Government News</td>\n",
       "      <td>Feb 27, 2016</td>\n",
       "      <td>0</td>\n",
       "    </tr>\n",
       "    <tr>\n",
       "      <th>44896</th>\n",
       "      <td>Republican tax plan would deal financial hit t...</td>\n",
       "      <td>WASHINGTON (Reuters) - The Republican tax plan...</td>\n",
       "      <td>politicsNews</td>\n",
       "      <td>November 2, 2017</td>\n",
       "      <td>1</td>\n",
       "    </tr>\n",
       "    <tr>\n",
       "      <th>44897</th>\n",
       "      <td>U.N. refugee commissioner says Australia must ...</td>\n",
       "      <td>SYDNEY (Reuters) - The U.N. High Commissioner ...</td>\n",
       "      <td>worldnews</td>\n",
       "      <td>November 1, 2017</td>\n",
       "      <td>1</td>\n",
       "    </tr>\n",
       "  </tbody>\n",
       "</table>\n",
       "<p>44898 rows × 5 columns</p>\n",
       "</div>"
      ],
      "text/plain": [
       "                                                   title  \\\n",
       "0       BREAKING: GOP Chairman Grassley Has Had Enoug...   \n",
       "1       Failed GOP Candidates Remembered In Hilarious...   \n",
       "2       Mike Pence’s New DC Neighbors Are HILARIOUSLY...   \n",
       "3      California AG pledges to defend birth control ...   \n",
       "4      AZ RANCHERS Living On US-Mexico Border Destroy...   \n",
       "...                                                  ...   \n",
       "44893  Nigeria says U.S. agrees delayed $593 million ...   \n",
       "44894                  Boiler Room #62 – Fatal Illusions   \n",
       "44895  ATHEISTS SUE GOVERNOR OF TEXAS Over Display on...   \n",
       "44896  Republican tax plan would deal financial hit t...   \n",
       "44897  U.N. refugee commissioner says Australia must ...   \n",
       "\n",
       "                                                    text          subject  \\\n",
       "0      Donald Trump s White House is in chaos, and th...             News   \n",
       "1      Now that Donald Trump is the presumptive GOP n...             News   \n",
       "2      Mike Pence is a huge homophobe. He supports ex...             News   \n",
       "3      SAN FRANCISCO (Reuters) - California Attorney ...     politicsNews   \n",
       "4      Twisted reasoning is all that comes from Pelos...         politics   \n",
       "...                                                  ...              ...   \n",
       "44893  ABUJA (Reuters) - The United States has formal...        worldnews   \n",
       "44894  Tune in to the Alternate Current Radio Network...      Middle-east   \n",
       "44895   I m convinced the Freedom From Religion group...  Government News   \n",
       "44896  WASHINGTON (Reuters) - The Republican tax plan...     politicsNews   \n",
       "44897  SYDNEY (Reuters) - The U.N. High Commissioner ...        worldnews   \n",
       "\n",
       "                     date  label  \n",
       "0           July 21, 2017      0  \n",
       "1             May 7, 2016      0  \n",
       "2        December 3, 2016      0  \n",
       "3        October 6, 2017       1  \n",
       "4            Apr 25, 2017      0  \n",
       "...                   ...    ...  \n",
       "44893  December 27, 2017       1  \n",
       "44894       June 29, 2016      0  \n",
       "44895        Feb 27, 2016      0  \n",
       "44896   November 2, 2017       1  \n",
       "44897   November 1, 2017       1  \n",
       "\n",
       "[44898 rows x 5 columns]"
      ]
     },
     "execution_count": 11,
     "metadata": {},
     "output_type": "execute_result"
    }
   ],
   "source": [
    "pd.read_csv('artifact/data_ingestion/Data.csv')"
   ]
  },
  {
   "cell_type": "code",
   "execution_count": null,
   "id": "99f8a665",
   "metadata": {},
   "outputs": [],
   "source": []
  },
  {
   "cell_type": "code",
   "execution_count": null,
   "id": "8786b73a",
   "metadata": {},
   "outputs": [],
   "source": []
  }
 ],
 "metadata": {
  "kernelspec": {
   "display_name": "env",
   "language": "python",
   "name": "python3"
  },
  "language_info": {
   "codemirror_mode": {
    "name": "ipython",
    "version": 3
   },
   "file_extension": ".py",
   "mimetype": "text/x-python",
   "name": "python",
   "nbconvert_exporter": "python",
   "pygments_lexer": "ipython3",
   "version": "3.12.3"
  }
 },
 "nbformat": 4,
 "nbformat_minor": 5
}
